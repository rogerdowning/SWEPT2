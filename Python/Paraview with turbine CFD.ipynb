{
 "cells": [
  {
   "cell_type": "markdown",
   "metadata": {},
   "source": [
    "# Manipulating VTK files with Paraview\n",
    "This IPython notebook investigates the loading and manipulating of VTK files through use of the Paraview Python libraries."
   ]
  },
  {
   "cell_type": "markdown",
   "metadata": {},
   "source": [
    "## Loading Paraview libraries\n",
    "Paraview provides a Python shell **pvpython** which is setup with the necessary include paths to enable the use of the libraries. Through investigation of load orders and module load paths, the below was determined as the required approach to utilise the Paraview libraries in IPython."
   ]
  },
  {
   "cell_type": "code",
   "execution_count": 1,
   "metadata": {
    "collapsed": false
   },
   "outputs": [
    {
     "name": "stdout",
     "output_type": "stream",
     "text": [
      "paraview version 4.3.1\n"
     ]
    }
   ],
   "source": [
    "import sys\n",
    "paraview_path = 'c:/program files (x86)/Paraview 4.3.1'\n",
    "paraview_version = 'paraview-4.3'\n",
    "#paraview_path = 'c:/program files/Paraview 4.4.0'\n",
    "sys.path = [\"%s/lib/%s/site-packages/\"%(paraview_path,paraview_version),\n",
    "            \"%s/lib/%s/site-packages/vtk\"%(paraview_path,paraview_version)\n",
    "           ] + sys.path\n",
    "import os\n",
    "os.environ['PATH'] = \"%s/bin;\"%paraview_path + os.environ['PATH']\n",
    "import paraview.simple"
   ]
  },
  {
   "cell_type": "markdown",
   "metadata": {},
   "source": [
    "## Loading VTK files\n",
    "The provided VTK files were presented as a set of partial meshes, the filenames were not intuitively related to their contents. Paraview GUI was used to interactively examine the files to find some suitable for beginning basic visualisation and manipulation investigations. By aggregating all files with name matching 'large_turbine_solar_refined\\_0\\_*' a complete data set was discovered."
   ]
  },
  {
   "cell_type": "markdown",
   "metadata": {},
   "source": [
    "Open up all the discovered data files into an array of VTK data objects"
   ]
  },
  {
   "cell_type": "code",
   "execution_count": 2,
   "metadata": {
    "collapsed": false
   },
   "outputs": [],
   "source": [
    "import glob\n",
    "dataFiles = glob.glob( \n",
    "    'C:/Users/rd73/Documents/Work/SWEPT2/samples/CFD/large_turbine_solar_refined_P6_OUTPUT/large_turbine_solar_refined_0_*')\n",
    "\n",
    "vtkData = []\n",
    "for d in dataFiles:\n",
    "    vtkData.append( paraview.simple.OpenDataFile( d ))"
   ]
  },
  {
   "cell_type": "markdown",
   "metadata": {},
   "source": [
    "Join the datasets together so as to merge them into one."
   ]
  },
  {
   "cell_type": "code",
   "execution_count": 3,
   "metadata": {
    "collapsed": false
   },
   "outputs": [],
   "source": [
    "vtkData = paraview.simple.AppendDatasets( *vtkData )"
   ]
  },
  {
   "cell_type": "markdown",
   "metadata": {
    "collapsed": true
   },
   "source": [
    "## Slicing the object\n",
    "In order to compare planar LIDAR data with 3-d CFD output, a slice plane is required to extract the same data. Extract a horizontal slice by setting the normal vector of the plane to the Y-axis."
   ]
  },
  {
   "cell_type": "code",
   "execution_count": 4,
   "metadata": {
    "collapsed": false
   },
   "outputs": [],
   "source": [
    "slicer = paraview.simple.Slice()\n",
    "slicer.Input = vtkData\n",
    "slicer.Crinkleslice = True\n",
    "slicer.SliceType.Origin = [0,0,0]\n",
    "slicer.SliceType.Normal = [0,1,0]\n",
    "slicer.UpdatePipeline()\n",
    "cells = slicer.CellData\n",
    "points = slicer.PointData"
   ]
  },
  {
   "cell_type": "code",
   "execution_count": 5,
   "metadata": {
    "collapsed": true
   },
   "outputs": [],
   "source": [
    "cd = paraview.simple.CellDatatoPointData( slicer, PassCellData=1)"
   ]
  },
  {
   "cell_type": "markdown",
   "metadata": {},
   "source": [
    "## Export of data from the slice\n",
    "Data from the slice needs to be exported into a format usable in other tools. CSV is a reasonable choice:"
   ]
  },
  {
   "cell_type": "code",
   "execution_count": 6,
   "metadata": {
    "collapsed": false
   },
   "outputs": [
    {
     "name": "stdout",
     "output_type": "stream",
     "text": [
      "\"T\",\"V:0\",\"V:1\",\"V:2\",\"p\",\"rho\",\"Points:0\",\"Points:1\",\"Points:2\"\n",
      "288.15,0.66428,0,-3.5681e-022,1.0133e+005,1.2252,0,0,1.5\n",
      "288.15,0.66428,0,-7.1363e-022,1.0133e+005,1.2252,0,0,1.75\n",
      "288.15,0.66428,0,-7.1363e-022,1.0133e+005,1.2252,0,0.01,1.75\n",
      "288.15,0.66428,0,-3.5681e-022,1.0133e+005,1.2252,6.9389e-018,0.01,1.5\n",
      "288.15,0.66428,0,7.731e-022,1.0133e+005,1.2252,0,0,-1.75\n",
      "288.15,0.66428,0,3.8655e-022,1.0133e+005,1.2252,0,0,-1.5\n",
      "288.15,0.66428,0,3.8655e-022,1.0133e+005,1.2252,6.9389e-018,0.01,-1.5\n",
      "288.15,0.66428,0,7.731e-022,1.0133e+005,1.2252,0,0.01,-1.75\n",
      "288.15,0.66428,0,0,1.0133e+005,1.2252,0,0,1.25\n"
     ]
    }
   ],
   "source": [
    "#paraview.simple.Show(vtkData)\n",
    "writer = paraview.simple.CreateWriter('turbine-out.csv',cd)\n",
    "writer.FieldAssociation = \"Points\"\n",
    "writer.UpdatePipeline()\n",
    "with open('turbine-out.csv','r') as fh:\n",
    "    l = 0\n",
    "    while l < 10:\n",
    "        print fh.readline(),\n",
    "        l += 1"
   ]
  },
  {
   "cell_type": "code",
   "execution_count": 7,
   "metadata": {
    "collapsed": true
   },
   "outputs": [],
   "source": [
    "paraview.simple.Disconnect()"
   ]
  },
  {
   "cell_type": "markdown",
   "metadata": {},
   "source": [
    "## Replicating the wake diagram produced from LIDAR data\n",
    "Now to try to perform similar analysis on the data as was done with the LIDAR data. This will follow a number of steps:\n",
    "  1. Cut the data down to a box similar to the LIDAR data extent.\n",
    "  1. Sample points in the same pattern as done with the LIDAR scan i.e. matching range gates and azimuths.\n",
    "  1. Perform bilinear interpolation to fill the grid.\n",
    "  1. Extract wake properties such as wind speed deficit."
   ]
  },
  {
   "cell_type": "code",
   "execution_count": 8,
   "metadata": {
    "collapsed": false
   },
   "outputs": [
    {
     "data": {
      "text/html": [
       "<div>\n",
       "<table border=\"1\" class=\"dataframe\">\n",
       "  <thead>\n",
       "    <tr style=\"text-align: right;\">\n",
       "      <th></th>\n",
       "      <th>T</th>\n",
       "      <th>V:0</th>\n",
       "      <th>V:1</th>\n",
       "      <th>V:2</th>\n",
       "      <th>p</th>\n",
       "      <th>rho</th>\n",
       "      <th>X</th>\n",
       "      <th>Y</th>\n",
       "      <th>Z</th>\n",
       "    </tr>\n",
       "  </thead>\n",
       "  <tbody>\n",
       "    <tr>\n",
       "      <th>count</th>\n",
       "      <td>90938.000000</td>\n",
       "      <td>90938.000000</td>\n",
       "      <td>90938.000000</td>\n",
       "      <td>90938.000000</td>\n",
       "      <td>90938.000000</td>\n",
       "      <td>9.093800e+04</td>\n",
       "      <td>90938.000000</td>\n",
       "      <td>90938.000</td>\n",
       "      <td>90938.000000</td>\n",
       "    </tr>\n",
       "    <tr>\n",
       "      <th>mean</th>\n",
       "      <td>288.159689</td>\n",
       "      <td>0.634566</td>\n",
       "      <td>-0.000467</td>\n",
       "      <td>-0.002323</td>\n",
       "      <td>101329.961072</td>\n",
       "      <td>1.225200e+00</td>\n",
       "      <td>15.285347</td>\n",
       "      <td>0.005</td>\n",
       "      <td>0.003944</td>\n",
       "    </tr>\n",
       "    <tr>\n",
       "      <th>std</th>\n",
       "      <td>0.001736</td>\n",
       "      <td>0.065674</td>\n",
       "      <td>0.000495</td>\n",
       "      <td>0.012420</td>\n",
       "      <td>0.622708</td>\n",
       "      <td>7.045514e-13</td>\n",
       "      <td>2.995128</td>\n",
       "      <td>0.005</td>\n",
       "      <td>0.588093</td>\n",
       "    </tr>\n",
       "    <tr>\n",
       "      <th>min</th>\n",
       "      <td>288.150000</td>\n",
       "      <td>0.444060</td>\n",
       "      <td>-0.006501</td>\n",
       "      <td>-0.081053</td>\n",
       "      <td>101320.000000</td>\n",
       "      <td>1.225200e+00</td>\n",
       "      <td>0.000000</td>\n",
       "      <td>0.000</td>\n",
       "      <td>-1.750000</td>\n",
       "    </tr>\n",
       "    <tr>\n",
       "      <th>25%</th>\n",
       "      <td>288.160000</td>\n",
       "      <td>0.613930</td>\n",
       "      <td>-0.000565</td>\n",
       "      <td>-0.005612</td>\n",
       "      <td>101330.000000</td>\n",
       "      <td>1.225200e+00</td>\n",
       "      <td>13.061000</td>\n",
       "      <td>0.000</td>\n",
       "      <td>-0.320900</td>\n",
       "    </tr>\n",
       "    <tr>\n",
       "      <th>50%</th>\n",
       "      <td>288.160000</td>\n",
       "      <td>0.656000</td>\n",
       "      <td>-0.000509</td>\n",
       "      <td>-0.001460</td>\n",
       "      <td>101330.000000</td>\n",
       "      <td>1.225200e+00</td>\n",
       "      <td>15.416000</td>\n",
       "      <td>0.005</td>\n",
       "      <td>0.002597</td>\n",
       "    </tr>\n",
       "    <tr>\n",
       "      <th>75%</th>\n",
       "      <td>288.160000</td>\n",
       "      <td>0.666030</td>\n",
       "      <td>-0.000305</td>\n",
       "      <td>0.000531</td>\n",
       "      <td>101330.000000</td>\n",
       "      <td>1.225200e+00</td>\n",
       "      <td>17.743000</td>\n",
       "      <td>0.010</td>\n",
       "      <td>0.327540</td>\n",
       "    </tr>\n",
       "    <tr>\n",
       "      <th>max</th>\n",
       "      <td>288.160000</td>\n",
       "      <td>0.854180</td>\n",
       "      <td>0.000474</td>\n",
       "      <td>0.082352</td>\n",
       "      <td>101330.000000</td>\n",
       "      <td>1.225200e+00</td>\n",
       "      <td>20.000000</td>\n",
       "      <td>0.010</td>\n",
       "      <td>1.750000</td>\n",
       "    </tr>\n",
       "  </tbody>\n",
       "</table>\n",
       "</div>"
      ],
      "text/plain": [
       "                  T           V:0           V:1           V:2              p  \\\n",
       "count  90938.000000  90938.000000  90938.000000  90938.000000   90938.000000   \n",
       "mean     288.159689      0.634566     -0.000467     -0.002323  101329.961072   \n",
       "std        0.001736      0.065674      0.000495      0.012420       0.622708   \n",
       "min      288.150000      0.444060     -0.006501     -0.081053  101320.000000   \n",
       "25%      288.160000      0.613930     -0.000565     -0.005612  101330.000000   \n",
       "50%      288.160000      0.656000     -0.000509     -0.001460  101330.000000   \n",
       "75%      288.160000      0.666030     -0.000305      0.000531  101330.000000   \n",
       "max      288.160000      0.854180      0.000474      0.082352  101330.000000   \n",
       "\n",
       "                rho             X          Y             Z  \n",
       "count  9.093800e+04  90938.000000  90938.000  90938.000000  \n",
       "mean   1.225200e+00     15.285347      0.005      0.003944  \n",
       "std    7.045514e-13      2.995128      0.005      0.588093  \n",
       "min    1.225200e+00      0.000000      0.000     -1.750000  \n",
       "25%    1.225200e+00     13.061000      0.000     -0.320900  \n",
       "50%    1.225200e+00     15.416000      0.005      0.002597  \n",
       "75%    1.225200e+00     17.743000      0.010      0.327540  \n",
       "max    1.225200e+00     20.000000      0.010      1.750000  "
      ]
     },
     "execution_count": 8,
     "metadata": {},
     "output_type": "execute_result"
    }
   ],
   "source": [
    "import pandas\n",
    "import numpy\n",
    "\n",
    "df = pandas.read_csv('turbine-out.csv')\n",
    "\n",
    "df.rename( columns = { 'Points:0':'X','Points:1':'Y','Points:2':'Z'},inplace=True)\n",
    "\n",
    "df.describe()"
   ]
  },
  {
   "cell_type": "code",
   "execution_count": 9,
   "metadata": {
    "collapsed": false
   },
   "outputs": [
    {
     "data": {
      "text/plain": [
       "<matplotlib.image.AxesImage at 0x13fb6438>"
      ]
     },
     "execution_count": 9,
     "metadata": {},
     "output_type": "execute_result"
    },
    {
     "data": {
      "image/png": "[encoded data removed]",
      "text/plain": [
       "<matplotlib.figure.Figure at 0x10ac1ef0>"
      ]
     },
     "metadata": {},
     "output_type": "display_data"
    }
   ],
   "source": [
    "%matplotlib inline\n",
    "import matplotlib.pyplot as plt\n",
    "from scipy.interpolate import griddata\n",
    "\n",
    "points = df.as_matrix(columns=['Z','X'])\n",
    "values = df['V:0']\n",
    "\n",
    "grid_x,grid_z = numpy.mgrid[0:20:1000j,-1.75:1.75:600j]\n",
    "\n",
    "gridded = griddata( points,values,(grid_z,grid_x),method='linear')\n",
    "\n",
    "plt.imshow(gridded)"
   ]
  },
  {
   "cell_type": "code",
   "execution_count": 10,
   "metadata": {
    "collapsed": false
   },
   "outputs": [
    {
     "data": {
      "text/plain": [
       "<matplotlib.image.AxesImage at 0x1417aa58>"
      ]
     },
     "execution_count": 10,
     "metadata": {},
     "output_type": "execute_result"
    },
    {
     "data": {
      "image/png": "[encoded data removed]",
      "text/plain": [
       "<matplotlib.figure.Figure at 0xf562ef0>"
      ]
     },
     "metadata": {},
     "output_type": "display_data"
    }
   ],
   "source": [
    "sub_im = gridded[ 590:1000,0:600]\n",
    "plt.imshow(sub_im)"
   ]
  },
  {
   "cell_type": "markdown",
   "metadata": {},
   "source": [
    "## Sampling points from the slice of VTK data\n",
    "Now that we have an image of a similar area to that obtained from the LIDAR data, try to prepare a similar set of data. Set up an array of sample points that approximate the positions of data points returned by the LIDAR system."
   ]
  },
  {
   "cell_type": "code",
   "execution_count": 11,
   "metadata": {
    "collapsed": true
   },
   "outputs": [],
   "source": [
    "ranges = [ x*30+45 for x in range(16)]\n",
    "\n",
    "angles = numpy.linspace( 150, 210, 21 )\n",
    "\n",
    "rad_angles = angles * numpy.pi / 180\n",
    "\n",
    "sample_points = zip( rad_angles.repeat( len(ranges)), ranges*len(rad_angles))\n",
    "sample_df = pandas.DataFrame( sample_points )\n",
    "\n",
    "sample_df.columns = ['radians','ranges']\n",
    "\n",
    "sample_df['x'] = sample_df['ranges'] * numpy.sin( sample_df['radians'])\n",
    "sample_df['y'] = sample_df['ranges'] * numpy.cos( sample_df['radians'])"
   ]
  },
  {
   "cell_type": "markdown",
   "metadata": {},
   "source": [
    "Scale and transpose the coordinates to put them within the range of the imagery we have."
   ]
  },
  {
   "cell_type": "code",
   "execution_count": 12,
   "metadata": {
    "collapsed": false
   },
   "outputs": [],
   "source": [
    "sample_df['scaled_x'] = sample_df['x'] + 300\n",
    "sample_df['scaled_y'] = abs(sample_df['y']) * 410/500"
   ]
  },
  {
   "cell_type": "markdown",
   "metadata": {
    "collapsed": true
   },
   "source": [
    "Now redo the interpolation but only onto the coordinates we have calculated. Use the nearest point to avoid changing data values further:"
   ]
  },
  {
   "cell_type": "code",
   "execution_count": 13,
   "metadata": {
    "collapsed": false
   },
   "outputs": [],
   "source": [
    "point_data = sub_im.flatten(order='C')\n",
    "\n",
    "points_coords = []\n",
    "for y in range(410):\n",
    "    for x in range(600):\n",
    "        points_coords.append((x,y))\n",
    "\n",
    "interp_points = griddata( points_coords, point_data, ( sample_df['scaled_x'], sample_df['scaled_y']), method='nearest')"
   ]
  },
  {
   "cell_type": "markdown",
   "metadata": {},
   "source": [
    "And then interpolate onto an image for display:"
   ]
  },
  {
   "cell_type": "code",
   "execution_count": 14,
   "metadata": {
    "collapsed": false
   },
   "outputs": [],
   "source": [
    "sample_df['interp_points'] = interp_points\n",
    "\n",
    "grid_x,grid_y = numpy.mgrid[-300:300:600j,0:-500:-500j]\n",
    "new_grid = griddata( sample_df[['x','y']],sample_df['interp_points'],(grid_x,grid_y),method='linear')"
   ]
  },
  {
   "cell_type": "markdown",
   "metadata": {},
   "source": [
    "Image must be rotated clockwise 90 degrees to match with LIDAR."
   ]
  },
  {
   "cell_type": "code",
   "execution_count": 15,
   "metadata": {
    "collapsed": false
   },
   "outputs": [
    {
     "data": {
      "text/plain": [
       "<matplotlib.image.AxesImage at 0x1a52d8d0>"
      ]
     },
     "execution_count": 15,
     "metadata": {},
     "output_type": "execute_result"
    },
    {
     "data": {
      "image/png": "[encoded data removed]",
      "text/plain": [
       "<matplotlib.figure.Figure at 0x14135eb8>"
      ]
     },
     "metadata": {},
     "output_type": "display_data"
    }
   ],
   "source": [
    "new_grid_rot = numpy.rot90(new_grid,k=3)\n",
    "\n",
    "plt.imshow(new_grid_rot,extent=(-300,300,0,600))"
   ]
  },
  {
   "cell_type": "code",
   "execution_count": null,
   "metadata": {
    "collapsed": true
   },
   "outputs": [],
   "source": []
  }
 ],
 "metadata": {
  "kernelspec": {
   "display_name": "Python 2",
   "language": "python",
   "name": "python2"
  },
  "language_info": {
   "codemirror_mode": {
    "name": "ipython",
    "version": 2
   },
   "file_extension": ".py",
   "mimetype": "text/x-python",
   "name": "python",
   "nbconvert_exporter": "python",
   "pygments_lexer": "ipython2",
   "version": "2.7.11"
  }
 },
 "nbformat": 4,
 "nbformat_minor": 0
}
