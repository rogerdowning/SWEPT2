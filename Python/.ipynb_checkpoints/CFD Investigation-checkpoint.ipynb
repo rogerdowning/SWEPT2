{
 "cells": [
  {
   "cell_type": "markdown",
   "metadata": {},
   "source": [
    "# Investigation of CFD output manipulation in Python\n",
    "\n",
    "## First, open up a sample CFD output file"
   ]
  },
  {
   "cell_type": "code",
   "execution_count": 1,
   "metadata": {
    "collapsed": false
   },
   "outputs": [],
   "source": [
    "import vtk\n",
    "from vtk import vtkXMLUnstructuredGridReader\n",
    "fname = \"c:/Users/rd73/Documents/Work/SWEPT2/samples/CFD/n0012_897_a0p0_P12_OUTPUT/n0012_897_a0p0_0_0.vtu\"\n",
    "reader = vtkXMLUnstructuredGridReader()\n",
    "reader.SetFileName(fname)\n",
    "reader.Update()\n"
   ]
  },
  {
   "cell_type": "markdown",
   "metadata": {},
   "source": [
    "## Next, experiment by taking a plane cut through the volume"
   ]
  },
  {
   "cell_type": "code",
   "execution_count": null,
   "metadata": {
    "collapsed": true
   },
   "outputs": [],
   "source": [
    "reader.GetOutput().GetPointData().SetActiveScalars(\"V\")\n",
    "plane = vtk.vtkPlane()\n",
    "plane.SetOrigin(reader.GetOutput().GetCenter())\n",
    "plane.SetNormal(0,1,0)\n",
    "planeCut = vtk.vtkCutter()\n",
    "planeCut.SetInputConnection(reader.GetOutputPort())\n",
    "planeCut.SetCutFunction(plane)\n",
    "planeCut.Update()\n",
    "cutterMapper=vtk.vtkPolyDataMapper()\n",
    "cutterMapper.SetInputConnection( planeCut.GetOutputPort())"
   ]
  },
  {
   "cell_type": "markdown",
   "metadata": {},
   "source": [
    "## Create an actor to utilise the data produced by the cut"
   ]
  },
  {
   "cell_type": "code",
   "execution_count": 3,
   "metadata": {
    "collapsed": false
   },
   "outputs": [],
   "source": [
    "planeActor=vtk.vtkActor()\n",
    "planeActor.GetProperty().SetColor(1.0,1,0)\n",
    "planeActor.GetProperty().SetLineWidth(2)\n",
    "planeActor.SetMapper(cutterMapper)"
   ]
  },
  {
   "cell_type": "markdown",
   "metadata": {},
   "source": [
    "## And now render to an image\n",
    "Here we choose to set the camera at a more distant offset and angle to show detail in the static image generated below. The preference is to extract the cut plane information directly into some kind of 2-d matrix which can then be more readily compared with the planar data obtained from the LIDAR systems."
   ]
  },
  {
   "cell_type": "code",
   "execution_count": 4,
   "metadata": {
    "collapsed": false
   },
   "outputs": [],
   "source": [
    "#create renderers and add actors of plane and cube\n",
    "ren = vtk.vtkRenderer()\n",
    "camera = vtk.vtkCamera()\n",
    "camera.SetPosition(200,800,200)\n",
    "#camera.SetFocalPoint(0,0,0)\n",
    "camera.SetFocalPoint( reader.GetOutput().GetCenter())\n",
    "ren.SetActiveCamera( camera )\n",
    "ren.AddActor(planeActor)\n",
    "#Add renderer to renderwindow and render\n",
    "renWin = vtk.vtkRenderWindow()\n",
    "renWin.AddRenderer(ren)\n",
    "renWin.SetSize(600, 600)\n",
    "ren.SetBackground(0,0,0)"
   ]
  },
  {
   "cell_type": "markdown",
   "metadata": {},
   "source": [
    "##Here we can create an interactive render window"
   ]
  },
  {
   "cell_type": "code",
   "execution_count": 6,
   "metadata": {
    "collapsed": true
   },
   "outputs": [],
   "source": [
    "renderWindowInteractor = vtk.vtkRenderWindowInteractor()\n",
    "renderWindowInteractor.SetRenderWindow(renWin)\n",
    "renderWindowInteractor.Initialize()\n",
    "renWin.Render()\n",
    "renderWindowInteractor.Start()"
   ]
  },
  {
   "cell_type": "markdown",
   "metadata": {},
   "source": [
    "##Or process the data into an image"
   ]
  },
  {
   "cell_type": "code",
   "execution_count": 5,
   "metadata": {
    "collapsed": false,
    "scrolled": true
   },
   "outputs": [
    {
     "data": {
      "image/png": "[encoded data removed]",
      "text/plain": [
       "<IPython.core.display.Image object>"
      ]
     },
     "execution_count": 5,
     "metadata": {},
     "output_type": "execute_result"
    }
   ],
   "source": [
    "renWin.SetOffScreenRendering(1)\n",
    "renWin.Render()\n",
    "windowToImageFilter = vtk.vtkWindowToImageFilter()\n",
    "windowToImageFilter.SetInput( renWin )\n",
    "\n",
    "writer = vtk.vtkPNGWriter()\n",
    "writer.SetWriteToMemory(1)\n",
    "writer.SetInputConnection(windowToImageFilter.GetOutputPort())\n",
    "writer.Write()\n",
    "data = str(buffer(writer.GetResult()))\n",
    "from IPython.display import Image\n",
    "Image(data)"
   ]
  },
  {
   "cell_type": "markdown",
   "metadata": {
    "collapsed": true
   },
   "source": [
    "The odd jagged edge of the cut plane appears to be due to visual clipping in the render window and is not a feature of the extracted data."
   ]
  },
  {
   "cell_type": "markdown",
   "metadata": {
    "collapsed": true
   },
   "source": [
    "Can we image the plane directly?"
   ]
  },
  {
   "cell_type": "code",
   "execution_count": 30,
   "metadata": {
    "collapsed": false
   },
   "outputs": [
    {
     "name": "stdout",
     "output_type": "stream",
     "text": [
      "vtkPoints (000000000237C130)\n",
      "  Debug: Off\n",
      "  Modified Time: 687\n",
      "  Reference Count: 3\n",
      "  Registered Events: (none)\n",
      "  Data: 00000000048392A0\n",
      "  Data Array Name: Points\n",
      "  Number Of Points: 19778\n",
      "  Bounds: \n",
      "    Xmin,Xmax: (1.16406, 501)\n",
      "    Ymin,Ymax: (-0.5, -0.5)\n",
      "    Zmin,Zmax: (-507.807, -0.00570731)\n",
      "\n",
      "\n",
      "None\n"
     ]
    }
   ],
   "source": [
    "reslice = vtk.vtkImageReslice()\n",
    "transform = vtk.vtkTransform()\n",
    "reslice.SetResliceTransform( transform )\n",
    "#reslice.SetInputConnection( planeCut.GetOutputPort() )\n",
    "planeCut.Update()\n",
    "print planeCut.GetOutput().GetPoints()\n",
    "print planeCut.GetOutput().GetPointData().GetAttribute(0)"
   ]
  },
  {
   "cell_type": "code",
   "execution_count": 24,
   "metadata": {
    "collapsed": false
   },
   "outputs": [],
   "source": [
    "writer = vtk.vtkPNGWriter()\n",
    "writer.SetWriteToMemory(1)\n",
    "writer.SetInputConnection(reslice.GetOutputPort())\n",
    "writer.Write()\n",
    "writer.GetResult()"
   ]
  },
  {
   "cell_type": "code",
   "execution_count": 25,
   "metadata": {
    "collapsed": false
   },
   "outputs": [
    {
     "ename": "TypeError",
     "evalue": "buffer object expected",
     "output_type": "error",
     "traceback": [
      "\u001b[1;31m---------------------------------------------------------------------------\u001b[0m",
      "\u001b[1;31mTypeError\u001b[0m                                 Traceback (most recent call last)",
      "\u001b[1;32m<ipython-input-25-4359f18d4116>\u001b[0m in \u001b[0;36m<module>\u001b[1;34m()\u001b[0m\n\u001b[0;32m      1\u001b[0m \u001b[0mwriter\u001b[0m\u001b[1;33m\u001b[0m\u001b[0m\n\u001b[1;32m----> 2\u001b[1;33m \u001b[0mdata\u001b[0m \u001b[1;33m=\u001b[0m \u001b[0mstr\u001b[0m\u001b[1;33m(\u001b[0m\u001b[0mbuffer\u001b[0m\u001b[1;33m(\u001b[0m\u001b[0mwriter\u001b[0m\u001b[1;33m.\u001b[0m\u001b[0mGetResult\u001b[0m\u001b[1;33m(\u001b[0m\u001b[1;33m)\u001b[0m\u001b[1;33m)\u001b[0m\u001b[1;33m)\u001b[0m\u001b[1;33m\u001b[0m\u001b[0m\n\u001b[0m\u001b[0;32m      3\u001b[0m \u001b[1;32mfrom\u001b[0m \u001b[0mIPython\u001b[0m\u001b[1;33m.\u001b[0m\u001b[0mdisplay\u001b[0m \u001b[1;32mimport\u001b[0m \u001b[0mImage\u001b[0m\u001b[1;33m\u001b[0m\u001b[0m\n\u001b[0;32m      4\u001b[0m \u001b[0mImage\u001b[0m\u001b[1;33m(\u001b[0m\u001b[0mdata\u001b[0m\u001b[1;33m)\u001b[0m\u001b[1;33m\u001b[0m\u001b[0m\n",
      "\u001b[1;31mTypeError\u001b[0m: buffer object expected"
     ]
    }
   ],
   "source": [
    "writer\n",
    "data = str(buffer(writer.GetResult()))\n",
    "from IPython.display import Image\n",
    "Image(data)"
   ]
  },
  {
   "cell_type": "code",
   "execution_count": null,
   "metadata": {
    "collapsed": true
   },
   "outputs": [],
   "source": []
  },
  {
   "cell_type": "code",
   "execution_count": null,
   "metadata": {
    "collapsed": true
   },
   "outputs": [],
   "source": []
  }
 ],
 "metadata": {
  "kernelspec": {
   "display_name": "Python 2",
   "language": "python",
   "name": "python2"
  },
  "language_info": {
   "codemirror_mode": {
    "name": "ipython",
    "version": 2
   },
   "file_extension": ".py",
   "mimetype": "text/x-python",
   "name": "python",
   "nbconvert_exporter": "python",
   "pygments_lexer": "ipython2",
   "version": "2.7.10"
  }
 },
 "nbformat": 4,
 "nbformat_minor": 0
}
