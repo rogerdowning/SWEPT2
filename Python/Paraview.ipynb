{
 "cells": [
  {
   "cell_type": "markdown",
   "metadata": {},
   "source": [
    "# Manipulating VTK files with Paraview\n",
    "This IPython notebook investigates the loading and manipulating of VTK files through use of the Paraview Python libraries."
   ]
  },
  {
   "cell_type": "markdown",
   "metadata": {},
   "source": [
    "## Loading Paraview libraries\n",
    "Paraview provides a Python shell **pvpython** which is setup with the necessary include paths to enable the use of the libraries. Through investigation of load orders and module load paths, the below was determined as the required approach to utilise the Paraview libraries in IPython."
   ]
  },
  {
   "cell_type": "code",
   "execution_count": 1,
   "metadata": {
    "collapsed": false
   },
   "outputs": [
    {
     "name": "stdout",
     "output_type": "stream",
     "text": [
      "paraview version 4.4.0\n"
     ]
    }
   ],
   "source": [
    "import sys\n",
    "sys.path = [\"C:/Program Files/ParaView 4.4.0/lib/paraview-4.4/site-packages/\",\n",
    "            \"C:/Program Files/ParaView 4.4.0/lib/paraview-4.4/site-packages/vtk\"\n",
    "           ] + sys.path\n",
    "import os\n",
    "os.environ['PATH'] = \"C:\\\\Program Files\\\\ParaView 4.4.0\\\\bin;\" + os.environ['PATH']\n",
    "import paraview.simple"
   ]
  },
  {
   "cell_type": "markdown",
   "metadata": {},
   "source": [
    "## Loading VTK files\n",
    "The provided VTK files were presented as a set of partial meshes, the filenames were not intuitively related to their contents. Paraview GUI was used to interactively examine the files to find some suitable for beginning basic visualisation and manipulation investigations. An aerofoil shape was found in the file **n0012_897_a0p0_4_0.pvtp**:"
   ]
  },
  {
   "cell_type": "code",
   "execution_count": 2,
   "metadata": {
    "collapsed": true
   },
   "outputs": [],
   "source": [
    "vtkData = paraview.simple.OpenDataFile('../samples/CFD/n0012_897_a0p0_P12_OUTPUT/n0012_897_a0p0_4_0.pvtp')"
   ]
  },
  {
   "cell_type": "markdown",
   "metadata": {},
   "source": [
    "Put the camera somewhere interesting and save a screenshot:"
   ]
  },
  {
   "cell_type": "code",
   "execution_count": 3,
   "metadata": {
    "collapsed": false
   },
   "outputs": [],
   "source": [
    "paraview.simple.Show(vtkData)\n",
    "cam = paraview.simple.GetActiveCamera()\n",
    "cam.SetPosition(1.4721964184224252, -2.279991281731778, 0.4211363870288759)\n",
    "paraview.simple.Render();\n",
    "paraview.simple.SaveScreenshot('NACA0012.png');"
   ]
  },
  {
   "cell_type": "code",
   "execution_count": 4,
   "metadata": {
    "collapsed": false
   },
   "outputs": [
    {
     "data": {
      "image/png": "[encoded data removed]",
      "text/plain": [
       "<IPython.core.display.Image object>"
      ]
     },
     "execution_count": 4,
     "metadata": {},
     "output_type": "execute_result"
    }
   ],
   "source": [
    "from IPython.display import Image\n",
    "Image(filename='NACA0012.png')"
   ]
  },
  {
   "cell_type": "markdown",
   "metadata": {
    "collapsed": true
   },
   "source": [
    "## Slicing the object\n",
    "In order to compare planar LIDAR data with 3-d CFD output, a slice plane is required to extract the same data."
   ]
  },
  {
   "cell_type": "code",
   "execution_count": 5,
   "metadata": {
    "collapsed": true
   },
   "outputs": [],
   "source": [
    "slicer = paraview.simple.Slice()\n",
    "slicer.Input = vtkData\n",
    "slicer.Crinkleslice = False\n",
    "slicer.SliceType.Origin = [0,0,0]\n",
    "slicer.SliceType.Normal = [0,1,1]"
   ]
  },
  {
   "cell_type": "markdown",
   "metadata": {},
   "source": [
    "Hide the previous object and show the slice just generated:"
   ]
  },
  {
   "cell_type": "code",
   "execution_count": 14,
   "metadata": {
    "collapsed": false
   },
   "outputs": [
    {
     "data": {
      "image/png": "[encoded data removed]",
      "text/plain": [
       "<IPython.core.display.Image object>"
      ]
     },
     "execution_count": 14,
     "metadata": {},
     "output_type": "execute_result"
    }
   ],
   "source": [
    "paraview.simple.Hide(vtkData)\n",
    "paraview.simple.Show(slicer)\n",
    "cam = paraview.simple.GetActiveCamera()\n",
    "cam.SetPosition(1.4721964184224252, -2.279991281731778, 0.4211363870288759)\n",
    "paraview.simple.Render()\n",
    "paraview.simple.SaveScreenshot('NACA0012-sliced.png');\n",
    "\n",
    "from IPython.display import Image\n",
    "Image(filename='NACA0012-sliced.png')"
   ]
  },
  {
   "cell_type": "markdown",
   "metadata": {},
   "source": [
    "## Export of data from the slice\n",
    "Data from the slice needs to be exported into a format usable in other tools. CSV is a reasonable choice:"
   ]
  },
  {
   "cell_type": "code",
   "execution_count": 13,
   "metadata": {
    "collapsed": false
   },
   "outputs": [
    {
     "name": "stdout",
     "output_type": "stream",
     "text": [
      "\"zone\",\"V:0\",\"V:1\",\"V:2\",\"p\",\"T\",\"rho\",\"mach\",\"cp\",\"cf:0\",\"cf:1\",\"cf:2\",\"pressureforce:0\",\"pressureforce:1\",\"pressureforce:2\",\"pressuremoment:0\",\"pressuremoment:1\",\"pressuremoment:2\",\"frictionforce:0\",\"frictionforce:1\",\"frictionforce:2\",\"frictionmoment:0\",\"frictionmoment:1\",\"frictionmoment:2\",\"eddy\",\"yplus\",\"var_6\",\"var_7\",\"Cell Type\"\n",
      "\n",
      "4,0,0,0,1.0168e+005,301.22,1.1762,0,0.22466,0.0012245,-2.6052e-018,-0.00017349,-3.1798e-005,0,-0.00022444,0.00011222,0.00022432,-1.5899e-005,1.2355e-006,-2.6286e-021,-1.7505e-007,6.1716e-010,-2.6247e-024,1.2388e-011,0,0.061486,0,1.4372e+008,3\n",
      "\n",
      "4,0,0,0,1.0169e+005,301.23,1.1763,0,0.23061,0.00090348,-2.6771e-018,-0.00012794,-3.3805e-005,0,-0.00023872,0.00011936,0.00023835,-1.6902e-005,9.4458e-007,-2.7988e-021,-1.3376e-007,4.889e-010,-2.8928e-024,9.8038e-012,0,0.052821,0,1.4369e+008,3\n",
      "\n",
      "4,0,0,0,1.0168e+005,301.22,1.1762,0,0.22461,0.001225,2.1667e-018,0.00017368,-3.1815e-005,0,0.00022439,-0.00011219,-0.00022427,-1.5907e-005,1.236e-006,2.1861e-021,1.7525e-007,-6.1739e-010,-2.1829e-024,-1.2411e-011,0,0.061497,0,1.4372e+008,3\n",
      "\n",
      "4,0,0,0,1.0106e+005,300.92,1.1702,0,-0.16427,0.0054444,-5.1028e-018,0.0029672,-9.9412e-005,-0,0.00018241,-9.1204e-005,-5.9561e-006,-4.9706e-005,6.8849e-006,-6.4529e-021,3.7523e-006,3.8225e-009,-2.3397e-025,1.1354e-009,0,0.13706,0,1.446e+008,3\n",
      "\n",
      "4,0,0,0,1.0109e+005,300.92,1.1705,0,-0.1474,0.005361,-4.7826e-018,0.0030202,-8.8339e-005,-0,0.00015681,-7.8403e-005,-4.9639e-006,-4.4169e-005,6.5457e-006,-5.8395e-021,3.6876e-006,3.4816e-009,-1.9665e-025,1.105e-009,0,0.13662,0,1.4447e+008,3\n",
      "\n",
      "4,0,0,0,1.0112e+005,300.91,1.1709,0,-0.12975,0.0052554,-1.1105e-018,0.0030611,-7.6981e-005,-0,0.00013216,-6.6081e-005,-4.0579e-006,-3.849e-005,6.1949e-006,-1.309e-021,3.6084e-006,3.155e-009,-4.0939e-026,1.0704e-009,0,0.13591,0,1.4433e+008,3\n",
      "\n",
      "4,0,0,0,1.0115e+005,300.91,1.1712,0,-0.11131,0.0051238,-7.1651e-018,0.0030865,-6.5356e-005,-0,0.0001085,-5.4249e-005,-3.2326e-006,-3.2678e-005,5.8306e-006,-8.1535e-021,3.5122e-006,2.8417e-009,-2.3679e-025,1.0311e-009,0,0.13488,0,1.4419e+008,3\n",
      "\n",
      "4,0,0,0,1.0118e+005,300.9,1.1716,0,-0.092072,0.0049599,3.8126e-018,0.0030906,-5.3485e-005,-0,8.5835e-005,-4.2918e-005,-2.4828e-006,-2.6742e-005,5.4482e-006,4.1878e-021,3.3948e-006,2.5395e-009,1.1293e-025,9.8602e-010,0,0.13341,0,1.4404e+008,3\n",
      "\n",
      "4,0,0,0,1.0121e+005,300.89,1.172,0,-0.072068,0.0047621,-1.5326e-017,0.0030703,-4.1403e-005,-0,6.4216e-005,-3.2108e-005,-1.8043e-006,-2.0702e-005,5.0488e-006,-1.6248e-020,3.2552e-006,2.2494e-009,-4.0679e-025,9.3505e-010,0,0.13146,0,1.4389e+008,3\n",
      "\n"
     ]
    }
   ],
   "source": [
    "writer = paraview.simple.CreateWriter('out.csv',slicer)\n",
    "writer.FieldAssociation = \"Cells\"\n",
    "writer.UpdatePipeline()\n",
    "with open('out.csv','r') as fh:\n",
    "    l = 0\n",
    "    while l < 10:\n",
    "        \n",
    "        print fh.readline()\n",
    "        l += 1\n",
    "        "
   ]
  },
  {
   "cell_type": "code",
   "execution_count": null,
   "metadata": {
    "collapsed": true
   },
   "outputs": [],
   "source": []
  }
 ],
 "metadata": {
  "kernelspec": {
   "display_name": "Python 2",
   "language": "python",
   "name": "python2"
  },
  "language_info": {
   "codemirror_mode": {
    "name": "ipython",
    "version": 2
   },
   "file_extension": ".py",
   "mimetype": "text/x-python",
   "name": "python",
   "nbconvert_exporter": "python",
   "pygments_lexer": "ipython2",
   "version": "2.7.9"
  }
 },
 "nbformat": 4,
 "nbformat_minor": 0
}
