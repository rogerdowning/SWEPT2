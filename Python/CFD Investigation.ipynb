{
 "cells": [
  {
   "cell_type": "markdown",
   "metadata": {},
   "source": [
    "# Investigation of CFD output manipulation in Python\n",
    "\n",
    "## First, open up a sample CFD output file"
   ]
  },
  {
   "cell_type": "code",
   "execution_count": 1,
   "metadata": {
    "collapsed": false
   },
   "outputs": [],
   "source": [
    "import vtk\n",
    "from vtk import vtkXMLUnstructuredGridReader\n",
    "fname = \"c:/Users/rd73/Documents/Work/SWEPT2/samples/CFD/n0012_897_a0p0_P12_OUTPUT/n0012_897_a0p0_0_0.vtu\"\n",
    "reader = vtkXMLUnstructuredGridReader()\n",
    "reader.SetFileName(fname)\n",
    "reader.Update()"
   ]
  },
  {
   "cell_type": "code",
   "execution_count": 2,
   "metadata": {
    "collapsed": false
   },
   "outputs": [],
   "source": [
    "a = reader.GetOutput()\n",
    "reader.GetOutput().GetCellData().SetActiveScalars('V')\n",
    "b = reader.GetOutput().GetCellData()"
   ]
  },
  {
   "cell_type": "code",
   "execution_count": 3,
   "metadata": {
    "collapsed": false
   },
   "outputs": [],
   "source": [
    "import vtk.util.numpy_support as VN\n",
    "d = VN.vtk_to_numpy( b.GetArray('V') )"
   ]
  },
  {
   "cell_type": "code",
   "execution_count": 33,
   "metadata": {
    "collapsed": false
   },
   "outputs": [],
   "source": [
    "import numpy\n",
    "img = []\n",
    "for i in d:\n",
    "    rms = numpy.sqrt(i[0]**2+i[1]**2+i[2]**2)\n",
    "    img.append(rms)\n",
    "img = img + [0] * 120\n",
    "numpy_img = numpy.zeros((501,39))"
   ]
  },
  {
   "cell_type": "code",
   "execution_count": 37,
   "metadata": {
    "collapsed": true
   },
   "outputs": [],
   "source": [
    "numpy_img = numpy.copy( img )\n",
    "numpy_reorg = numpy.reshape( numpy_img, [39,501])"
   ]
  },
  {
   "cell_type": "code",
   "execution_count": 38,
   "metadata": {
    "collapsed": false
   },
   "outputs": [
    {
     "data": {
      "image/png": "[encoded data removed]",
      "text/plain": [
       "<matplotlib.figure.Figure at 0xce49080>"
      ]
     },
     "metadata": {},
     "output_type": "display_data"
    }
   ],
   "source": [
    "%matplotlib inline\n",
    "import matplotlib.pyplot as mpl\n",
    "mpl.imshow(numpy_reorg);"
   ]
  },
  {
   "cell_type": "code",
   "execution_count": 18,
   "metadata": {
    "collapsed": true
   },
   "outputs": [],
   "source": [
    "reslice = vtk.vtkImageReslice()"
   ]
  },
  {
   "cell_type": "code",
   "execution_count": 19,
   "metadata": {
    "collapsed": true
   },
   "outputs": [],
   "source": [
    "reslice.SetResliceAxesDirectionCosines(1,0,0,0,1,0,0,0,1)\n",
    "reslice.SetOutputDimensionality(2)\n",
    "reslice.SetResliceAxesOrigin(0,0,0)"
   ]
  },
  {
   "cell_type": "code",
   "execution_count": 20,
   "metadata": {
    "collapsed": false
   },
   "outputs": [],
   "source": [
    "reslice.SetInputConnection( reader.GetOutputPort() )\n",
    "reslice.Update()"
   ]
  },
  {
   "cell_type": "code",
   "execution_count": 21,
   "metadata": {
    "collapsed": false
   },
   "outputs": [],
   "source": [
    "a = reslice.GetOutput()"
   ]
  },
  {
   "cell_type": "code",
   "execution_count": 38,
   "metadata": {
    "collapsed": false
   },
   "outputs": [
    {
     "data": {
      "text/plain": [
       "'double'"
      ]
     },
     "execution_count": 38,
     "metadata": {},
     "output_type": "execute_result"
    }
   ],
   "source": [
    "a.GetScalarTypeAsString()"
   ]
  },
  {
   "cell_type": "code",
   "execution_count": 23,
   "metadata": {
    "collapsed": true
   },
   "outputs": [],
   "source": [
    "writer = vtk.vtkPNGWriter()\n",
    "writer.SetWriteToMemory(1)"
   ]
  },
  {
   "cell_type": "code",
   "execution_count": 24,
   "metadata": {
    "collapsed": false
   },
   "outputs": [],
   "source": [
    "writer.SetInputConnection(reslice.GetOutputPort())\n",
    "writer.Write()"
   ]
  },
  {
   "cell_type": "code",
   "execution_count": 26,
   "metadata": {
    "collapsed": false
   },
   "outputs": [
    {
     "ename": "TypeError",
     "evalue": "buffer object expected",
     "output_type": "error",
     "traceback": [
      "\u001b[1;31m---------------------------------------------------------------------------\u001b[0m",
      "\u001b[1;31mTypeError\u001b[0m                                 Traceback (most recent call last)",
      "\u001b[1;32m<ipython-input-26-334dd7cc1b7d>\u001b[0m in \u001b[0;36m<module>\u001b[1;34m()\u001b[0m\n\u001b[1;32m----> 1\u001b[1;33m \u001b[0mdata\u001b[0m \u001b[1;33m=\u001b[0m \u001b[0mstr\u001b[0m\u001b[1;33m(\u001b[0m\u001b[0mbuffer\u001b[0m\u001b[1;33m(\u001b[0m\u001b[0mwriter\u001b[0m\u001b[1;33m.\u001b[0m\u001b[0mGetResult\u001b[0m\u001b[1;33m(\u001b[0m\u001b[1;33m)\u001b[0m\u001b[1;33m)\u001b[0m\u001b[1;33m)\u001b[0m\u001b[1;33m\u001b[0m\u001b[0m\n\u001b[0m\u001b[0;32m      2\u001b[0m \u001b[1;32mfrom\u001b[0m \u001b[0mIPython\u001b[0m\u001b[1;33m.\u001b[0m\u001b[0mdisplay\u001b[0m \u001b[1;32mimport\u001b[0m \u001b[0mImage\u001b[0m\u001b[1;33m\u001b[0m\u001b[0m\n\u001b[0;32m      3\u001b[0m \u001b[0mImage\u001b[0m\u001b[1;33m(\u001b[0m\u001b[0mdata\u001b[0m\u001b[1;33m)\u001b[0m\u001b[1;33m\u001b[0m\u001b[0m\n",
      "\u001b[1;31mTypeError\u001b[0m: buffer object expected"
     ]
    }
   ],
   "source": [
    "data = str(buffer(writer.GetResult()))\n",
    "from IPython.display import Image\n",
    "Image(data)"
   ]
  },
  {
   "cell_type": "markdown",
   "metadata": {},
   "source": [
    "## Create an actor to utilise the data produced by the cut"
   ]
  },
  {
   "cell_type": "code",
   "execution_count": 4,
   "metadata": {
    "collapsed": false
   },
   "outputs": [
    {
     "ename": "AttributeError",
     "evalue": "'module' object has no attribute 'vtkPolyDatpaMapper'",
     "output_type": "error",
     "traceback": [
      "\u001b[1;31m---------------------------------------------------------------------------\u001b[0m",
      "\u001b[1;31mAttributeError\u001b[0m                            Traceback (most recent call last)",
      "\u001b[1;32m<ipython-input-4-e8eaa3b3163b>\u001b[0m in \u001b[0;36m<module>\u001b[1;34m()\u001b[0m\n\u001b[0;32m      6\u001b[0m \u001b[0mplaneCut\u001b[0m\u001b[1;33m.\u001b[0m\u001b[0mSetCutFunction\u001b[0m\u001b[1;33m(\u001b[0m\u001b[0mplane\u001b[0m\u001b[1;33m)\u001b[0m\u001b[1;33m\u001b[0m\u001b[0m\n\u001b[0;32m      7\u001b[0m \u001b[0mplaneCut\u001b[0m\u001b[1;33m.\u001b[0m\u001b[0mUpdate\u001b[0m\u001b[1;33m(\u001b[0m\u001b[1;33m)\u001b[0m\u001b[1;33m\u001b[0m\u001b[0m\n\u001b[1;32m----> 8\u001b[1;33m \u001b[0mcutterMapper\u001b[0m\u001b[1;33m=\u001b[0m\u001b[0mvtk\u001b[0m\u001b[1;33m.\u001b[0m\u001b[0mvtkPolyDatpaMapper\u001b[0m\u001b[1;33m(\u001b[0m\u001b[1;33m)\u001b[0m\u001b[1;33m\u001b[0m\u001b[0m\n\u001b[0m\u001b[0;32m      9\u001b[0m \u001b[0mcutterMapper\u001b[0m\u001b[1;33m.\u001b[0m\u001b[0mSetInputConnection\u001b[0m\u001b[1;33m(\u001b[0m \u001b[0mplaneCut\u001b[0m\u001b[1;33m.\u001b[0m\u001b[0mGetOutputPort\u001b[0m\u001b[1;33m(\u001b[0m\u001b[1;33m)\u001b[0m\u001b[1;33m)\u001b[0m\u001b[1;33m\u001b[0m\u001b[0m\n",
      "\u001b[1;31mAttributeError\u001b[0m: 'module' object has no attribute 'vtkPolyDatpaMapper'"
     ]
    }
   ],
   "source": [
    "plane = vtk.vtkPlane()\n",
    "plane.SetOrigin(reader.GetOutput().GetCenter())\n",
    "plane.SetNormal(0,1,0)\n",
    "planeCut = vtk.vtkCutter()\n",
    "planeCut.SetInputConnection(reader.GetOutputPort())\n",
    "planeCut.SetCutFunction(plane)\n",
    "planeCut.Update()\n",
    "cutterMapper=vtk.vtkPolyDatpaMapper()\n",
    "cutterMapper.SetInputConnection( planeCut.GetOutputPort())"
   ]
  },
  {
   "cell_type": "code",
   "execution_count": null,
   "metadata": {
    "collapsed": false
   },
   "outputs": [],
   "source": [
    "planeActor=vtk.vtkActor()\n",
    "planeActor.GetProperty().SetColor(1.0,1,0)\n",
    "planeActor.GetProperty().SetLineWidth(2)\n",
    "planeActor.SetMapper(cutterMapper)"
   ]
  },
  {
   "cell_type": "markdown",
   "metadata": {},
   "source": [
    "## And now render to an image\n",
    "Here we choose to set the camera at a more distant offset and angle to show detail in the static image generated below. The preference is to extract the cut plane information directly into some kind of 2-d matrix which can then be more readily compared with the planar data obtained from the LIDAR systems."
   ]
  },
  {
   "cell_type": "code",
   "execution_count": null,
   "metadata": {
    "collapsed": false
   },
   "outputs": [],
   "source": [
    "#create renderers and add actors of plane and cube\n",
    "ren = vtk.vtkRenderer()\n",
    "camera = vtk.vtkCamera()\n",
    "camera.SetPosition(200,800,200)\n",
    "#camera.SetFocalPoint(0,0,0)\n",
    "camera.SetFocalPoint( reader.GetOutput().GetCenter())\n",
    "ren.SetActiveCamera( camera )\n",
    "ren.AddActor(planeActor)\n",
    "#Add renderer to renderwindow and render\n",
    "renWin = vtk.vtkRenderWindow()\n",
    "renWin.AddRenderer(ren)\n",
    "renWin.SetSize(600, 600)\n",
    "ren.SetBackground(0,0,0)"
   ]
  },
  {
   "cell_type": "markdown",
   "metadata": {},
   "source": [
    "##Here we can create an interactive render window"
   ]
  },
  {
   "cell_type": "code",
   "execution_count": 5,
   "metadata": {
    "collapsed": false
   },
   "outputs": [
    {
     "ename": "NameError",
     "evalue": "name 'renWin' is not defined",
     "output_type": "error",
     "traceback": [
      "\u001b[1;31m---------------------------------------------------------------------------\u001b[0m",
      "\u001b[1;31mNameError\u001b[0m                                 Traceback (most recent call last)",
      "\u001b[1;32m<ipython-input-5-e51e6917532c>\u001b[0m in \u001b[0;36m<module>\u001b[1;34m()\u001b[0m\n\u001b[0;32m      1\u001b[0m \u001b[0mrenderWindowInteractor\u001b[0m \u001b[1;33m=\u001b[0m \u001b[0mvtk\u001b[0m\u001b[1;33m.\u001b[0m\u001b[0mvtkRenderWindowInteractor\u001b[0m\u001b[1;33m(\u001b[0m\u001b[1;33m)\u001b[0m\u001b[1;33m\u001b[0m\u001b[0m\n\u001b[1;32m----> 2\u001b[1;33m \u001b[0mrenderWindowInteractor\u001b[0m\u001b[1;33m.\u001b[0m\u001b[0mSetRenderWindow\u001b[0m\u001b[1;33m(\u001b[0m\u001b[0mrenWin\u001b[0m\u001b[1;33m)\u001b[0m\u001b[1;33m\u001b[0m\u001b[0m\n\u001b[0m\u001b[0;32m      3\u001b[0m \u001b[0mrenderWindowInteractor\u001b[0m\u001b[1;33m.\u001b[0m\u001b[0mInitialize\u001b[0m\u001b[1;33m(\u001b[0m\u001b[1;33m)\u001b[0m\u001b[1;33m\u001b[0m\u001b[0m\n\u001b[0;32m      4\u001b[0m \u001b[0mrenWin\u001b[0m\u001b[1;33m.\u001b[0m\u001b[0mRender\u001b[0m\u001b[1;33m(\u001b[0m\u001b[1;33m)\u001b[0m\u001b[1;33m\u001b[0m\u001b[0m\n\u001b[0;32m      5\u001b[0m \u001b[0mrenderWindowInteractor\u001b[0m\u001b[1;33m.\u001b[0m\u001b[0mStart\u001b[0m\u001b[1;33m(\u001b[0m\u001b[1;33m)\u001b[0m\u001b[1;33m\u001b[0m\u001b[0m\n",
      "\u001b[1;31mNameError\u001b[0m: name 'renWin' is not defined"
     ]
    }
   ],
   "source": [
    "renderWindowInteractor = vtk.vtkRenderWindowInteractor()\n",
    "renderWindowInteractor.SetRenderWindow(renWin)\n",
    "renderWindowInteractor.Initialize()\n",
    "renWin.Render()\n",
    "renderWindowInteractor.Start()"
   ]
  },
  {
   "cell_type": "markdown",
   "metadata": {},
   "source": [
    "##Or process the data into an image"
   ]
  },
  {
   "cell_type": "code",
   "execution_count": 5,
   "metadata": {
    "collapsed": false,
    "scrolled": true
   },
   "outputs": [
    {
     "data": {
      "image/png": "[encoded data removed]",
      "text/plain": [
       "<IPython.core.display.Image object>"
      ]
     },
     "execution_count": 5,
     "metadata": {},
     "output_type": "execute_result"
    }
   ],
   "source": [
    "renWin.SetOffScreenRendering(1)\n",
    "renWin.Render()\n",
    "windowToImageFilter = vtk.vtkWindowToImageFilter()\n",
    "windowToImageFilter.SetInput( renWin )\n",
    "\n",
    "writer = vtk.vtkPNGWriter()\n",
    "writer.SetWriteToMemory(1)\n",
    "writer.SetInputConnection(windowToImageFilter.GetOutputPort())\n",
    "writer.Write()\n",
    "data = str(buffer(writer.GetResult()))\n",
    "from IPython.display import Image\n",
    "Image(data)"
   ]
  },
  {
   "cell_type": "markdown",
   "metadata": {
    "collapsed": true
   },
   "source": [
    "The odd jagged edge of the cut plane appears to be due to visual clipping in the render window and is not a feature of the extracted data."
   ]
  },
  {
   "cell_type": "markdown",
   "metadata": {
    "collapsed": true
   },
   "source": [
    "Can we image the plane directly?"
   ]
  },
  {
   "cell_type": "code",
   "execution_count": 13,
   "metadata": {
    "collapsed": false
   },
   "outputs": [
    {
     "data": {
      "text/plain": [
       "(vtkImageData)0000000004AEBE60"
      ]
     },
     "execution_count": 13,
     "metadata": {},
     "output_type": "execute_result"
    }
   ],
   "source": [
    "reslice.GetOutput()"
   ]
  },
  {
   "cell_type": "code",
   "execution_count": null,
   "metadata": {
    "collapsed": true
   },
   "outputs": [],
   "source": []
  },
  {
   "cell_type": "code",
   "execution_count": null,
   "metadata": {
    "collapsed": true
   },
   "outputs": [],
   "source": []
  }
 ],
 "metadata": {
  "kernelspec": {
   "display_name": "Python 2",
   "language": "python",
   "name": "python2"
  },
  "language_info": {
   "codemirror_mode": {
    "name": "ipython",
    "version": 2
   },
   "file_extension": ".py",
   "mimetype": "text/x-python",
   "name": "python",
   "nbconvert_exporter": "python",
   "pygments_lexer": "ipython2",
   "version": "2.7.10"
  }
 },
 "nbformat": 4,
 "nbformat_minor": 0
}
